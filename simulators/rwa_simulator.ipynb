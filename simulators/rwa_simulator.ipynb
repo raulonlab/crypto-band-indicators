{
 "cells": [
  {
   "cell_type": "code",
   "execution_count": null,
   "metadata": {},
   "outputs": [],
   "source": [
    "import sys\n",
    "IN_COLAB = 'google.colab' in sys.modules\n",
    "if IN_COLAB:\n",
    "  %pip install --quiet git+https://github.com/raultruco/cryptowatson-indicators#egg=cryptowatson-indicators\n",
    "  %pip install --quiet git+https://github.com/mementum/backtrader.git@0fa63ef4a35dc53cc7320813f8b15480c8f85517#egg=backtrader\n",
    "\n",
    "import backtrader as bt\n",
    "from cryptowatsonindicators import datas, strategies\n",
    "import requests\n",
    "requests.packages.urllib3.disable_warnings()\n",
    "# %matplotlib inline"
   ]
  },
  {
   "cell_type": "markdown",
   "metadata": {},
   "source": [
    "# Rainbow Weighted Average Simulator\n",
    "\n",
    "Usage..."
   ]
  },
  {
   "cell_type": "markdown",
   "metadata": {},
   "source": [
    "### Variables"
   ]
  },
  {
   "cell_type": "code",
   "execution_count": null,
   "metadata": {},
   "outputs": [],
   "source": [
    "strategy             = \"rebalance\"    # Select strategy between \"weighted_dca\" and \"rebalance\"\n",
    "ticker_symbol        = \"BTCUSDT\"      # currently only works with BTCUSDT\n",
    "start                = '01/08/2022'   # start date of the simulation. Ex: '01/08/2020' or None\n",
    "end                  = None           # end date of the simulation. Ex: '01/08/2020' or None\n",
    "initial_cash         = 10000.0        # initial broker cash. Default 10000 usd\n",
    "min_order_period     = 5              # Minimum period in days to place orders\n",
    "weighted_buy_amount  = 100            # Amount purchased in standard DCA\n",
    "# weighted_multipliers = [0, 0.1, 0.2, 0.35, 0.5, 0.75, 1, 2.5, 3]      # Default order amount multipliers (weighted) for each index\n",
    "weighted_multipliers = [0, 0.1, 0.2, 0.3, 0.5, 0.8, 1.3, 2.1, 3.4]    # Fibonacci order amount multipliers (weighted) for each index\n",
    "rebalance_percents   = [10, 20, 30, 40, 50, 60, 70, 80, 90]         # rebalance percentages for each index"
   ]
  },
  {
   "cell_type": "markdown",
   "metadata": {},
   "source": [
    "### Run Simulator!"
   ]
  },
  {
   "cell_type": "code",
   "execution_count": null,
   "metadata": {},
   "outputs": [],
   "source": [
    "\n",
    "cerebro = bt.Cerebro(stdstats=True)\n",
    "\n",
    "# Data loader\n",
    "data_loader = datas.DataLoader().load_data('ticker_nasdaq')\n",
    "\n",
    "# Add the data feeds to Cerebro\n",
    "ticker_data_feed = data_loader.to_backtrade_feed('ticker_nasdaq', start, end)\n",
    "rwa_data_feed =  data_loader.to_backtrade_feed('ticker_nasdaq')\n",
    "cerebro.adddata(ticker_data_feed)\n",
    "cerebro.adddata(rwa_data_feed)\n",
    "\n",
    "if strategy == \"weighted_dca\":\n",
    "    cerebro.addstrategy(strategies.RwaWeightedAverageStrategy, weighted_buy_amount=weighted_buy_amount,\n",
    "                    min_order_period=min_order_period, weighted_multipliers=weighted_multipliers, log=True)\n",
    "elif strategy == \"rebalance\":\n",
    "    cerebro.addstrategy(strategies.RwaRebalanceStrategy, min_order_period=min_order_period, rebalance_percents=rebalance_percents, log=True)\n",
    "else:\n",
    "    error_message = f\"Invalid strategy: '{strategy}'\"\n",
    "    print(f\"Error: {error_message}\")\n",
    "    exit()\n",
    "\n",
    "# Add cash to the virtual broker\n",
    "cerebro.broker.setcash(initial_cash)    # default: 10k\n",
    "\n",
    "start_portfolio_value = cerebro.broker.getvalue()\n",
    "cerebro.run()\n",
    "\n",
    "end_portfolio_value = cerebro.broker.getvalue()     # Value in USDT\n",
    "pnl_portfolio_value = end_portfolio_value - start_portfolio_value\n",
    "\n",
    "position = cerebro.getbroker().getposition(data=ticker_data_feed)   # position: size: BTC in portfolio, price: average BTC purchase price\n",
    "start_btc_price, end_btc_price = data_loader.get_value_start_end(label = 'ticker_nasdaq', start = start, end = end)\n",
    "\n",
    "# btc price and PnL at start\n",
    "start_pnl_value = pnl_portfolio_value + (position.size * start_btc_price)\n",
    "start_pnl_percent = (start_pnl_value / start_portfolio_value) * 100\n",
    "start_pnl_sign = '' if start_pnl_value < 0 else '+'\n",
    "\n",
    "# btc price and PnL at the end\n",
    "end_pnl_value = pnl_portfolio_value + (position.size * end_btc_price)\n",
    "end_pnl_percent = (end_pnl_value / start_portfolio_value) * 100\n",
    "end_pnl_sign = '' if end_pnl_value < 0 else '+'\n",
    "\n",
    "# btc price and PnL at the end\n",
    "avg_btc_price = position.price\n",
    "avg_pnl_value = pnl_portfolio_value + (position.size * avg_btc_price)\n",
    "avg_pnl_percent = (avg_pnl_value / start_portfolio_value) * 100\n",
    "avg_pnl_sign = '' if avg_pnl_value < 0 else '+'\n",
    "\n",
    "print(\"\\nSIMULATION RESULT\")\n",
    "print(\"------------------------\")\n",
    "print(f\"{'Started:':<12} {start_portfolio_value:<.2f} USD\")\n",
    "print(f\"{'Ended:':<12} {end_portfolio_value:<.2f} USD, {position.size:6f} BTC\")\n",
    "print(f\"{'PnL:':<12} {end_pnl_sign}{end_pnl_value:.2f} USD ({end_pnl_sign}{end_pnl_percent:.2f}%) at the latest price of {end_btc_price:.4f} USD\")\n",
    "print(f\"{'PnL:':<12} {avg_pnl_sign}{avg_pnl_value:.2f} USD ({avg_pnl_sign}{avg_pnl_percent:.2f}%) on average price of {avg_btc_price:.4f} USD\")\n",
    "print(f\"{'PnL:':<12} {start_pnl_sign}{start_pnl_value:.2f} USD ({start_pnl_sign}{start_pnl_percent:.2f}%) at the initial price of {start_btc_price:.4f} USD\")"
   ]
  },
  {
   "cell_type": "markdown",
   "metadata": {},
   "source": [
    "### Plot results"
   ]
  },
  {
   "cell_type": "code",
   "execution_count": null,
   "metadata": {},
   "outputs": [],
   "source": [
    "enable_plot_results = False   # Set True to plot the simulation results\n",
    "\n",
    "if enable_plot_results:\n",
    "   cerebro.plot(volume=False)  # iplot=False, style='bar' , stdstats=False "
   ]
  }
 ],
 "metadata": {
  "kernelspec": {
   "display_name": "Python 3.9.13 ('venv_cryptowatson-indicators': venv)",
   "language": "python",
   "name": "python3"
  },
  "language_info": {
   "codemirror_mode": {
    "name": "ipython",
    "version": 3
   },
   "file_extension": ".py",
   "mimetype": "text/x-python",
   "name": "python",
   "nbconvert_exporter": "python",
   "pygments_lexer": "ipython3",
   "version": "3.9.13"
  },
  "orig_nbformat": 4,
  "vscode": {
   "interpreter": {
    "hash": "9885f4c41802ec7bcb9b0dbdab55a5afa972e8313182a8f90701a15196806935"
   }
  }
 },
 "nbformat": 4,
 "nbformat_minor": 2
}
