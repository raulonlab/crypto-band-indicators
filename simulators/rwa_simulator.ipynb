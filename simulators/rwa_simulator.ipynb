{
 "cells": [
  {
   "cell_type": "code",
   "execution_count": null,
   "metadata": {},
   "outputs": [],
   "source": [
    "import sys\n",
    "IN_COLAB = 'google.colab' in sys.modules\n",
    "if IN_COLAB:\n",
    "  %pip install --quiet git+https://github.com/raultruco/cryptowatson-indicators#egg=cryptowatson-indicators\n",
    "  %pip install --quiet git+https://github.com/mementum/backtrader.git@0fa63ef4a35dc53cc7320813f8b15480c8f85517#egg=backtrader\n",
    "\n",
    "import backtrader as bt\n",
    "from cryptowatsonindicators import datas, strategies, RwaIndicator\n",
    "import requests\n",
    "requests.packages.urllib3.disable_warnings()\n",
    "import pprint\n",
    "pprint = pprint.PrettyPrinter(indent=2, sort_dicts=False, compact=False).pprint   # pprint with defaults\n",
    "\n",
    "%matplotlib inline"
   ]
  },
  {
   "cell_type": "markdown",
   "metadata": {},
   "source": [
    "### Global variables"
   ]
  },
  {
   "cell_type": "code",
   "execution_count": null,
   "metadata": {},
   "outputs": [],
   "source": [
    "ticker_symbol = \"BTCUSDT\"      # currently only works with BTCUSDT\n",
    "indicator_start_date = None    # Limit indicator series to start at specific date or None to use all the history\n",
    "binance_api_key = ''           # use your binance keys or leave blank to use Binance's testnet\n",
    "binance_secret_key = ''\n",
    "run_get_current = True\n",
    "run_get_at_date = True\n",
    "run_plot = True\n",
    "run_simulator = True\n",
    "\n",
    "rwa = RwaIndicator(indicator_start_date, ticker_symbol, binance_api_key, binance_secret_key)"
   ]
  },
  {
   "cell_type": "markdown",
   "metadata": {},
   "source": [
    "### Get rainbow band"
   ]
  },
  {
   "cell_type": "code",
   "execution_count": null,
   "metadata": {},
   "outputs": [],
   "source": [
    "if run_get_current:\n",
    "    band_index = rwa.get_current_rainbow_band_index()\n",
    "\n",
    "    rainbow_info = RwaIndicator._get_rainbow_info_by_index(band_index)\n",
    "    print('Current Rainbow Band:')\n",
    "    pprint(rainbow_info)"
   ]
  },
  {
   "cell_type": "code",
   "execution_count": null,
   "metadata": {},
   "outputs": [],
   "source": [
    "if run_get_at_date:\n",
    "    at_date = '01/04/2022'    # date when look up the band\n",
    "    price_at_date = 30000     # Price of BTC at date\n",
    "    \n",
    "    band_index = rwa.get_rainbow_band_index(price=price_at_date, at_date=at_date)\n",
    "\n",
    "    rainbow_info = RwaIndicator._get_rainbow_info_by_index(band_index)\n",
    "    print(f\"Rainbow Band at {at_date}:\")\n",
    "    pprint(rainbow_info)"
   ]
  },
  {
   "cell_type": "markdown",
   "metadata": {},
   "source": [
    "### Plot Rainbow chart"
   ]
  },
  {
   "cell_type": "code",
   "execution_count": null,
   "metadata": {},
   "outputs": [],
   "source": [
    "if run_plot:\n",
    "    rwa.plot_rainbow()"
   ]
  },
  {
   "cell_type": "markdown",
   "metadata": {},
   "source": [
    "### Simulator\n",
    "\n",
    "Usage..."
   ]
  },
  {
   "cell_type": "code",
   "execution_count": null,
   "metadata": {},
   "outputs": [],
   "source": [
    "\n",
    "start_date = '01/01/2020'    # start date of the simulation\n",
    "buy_frequency_days = 5       # Number of days between purchases\n",
    "buy_amount = 100             # Amount purchased in standard DCA\n",
    "weight_type = \"fibs\"         # \"fibs\" or \"originaldca\"\n",
    "\n",
    "if run_simulator:\n",
    "    # Create a cerebro entity\n",
    "    cerebro = bt.Cerebro(stdstats=True)\n",
    "\n",
    "    cerebro.addstrategy(strategies.RwaStrategy, buy_amount=buy_amount,\n",
    "                    buy_frequency_days=buy_frequency_days, weight_type=weight_type, log=False, debug=False)\n",
    "\n",
    "    # Get data feed\n",
    "    ticker_data = datas.get_nasdaq_ticker_time_series(start_date=start_date)\n",
    "\n",
    "    ticker_data_feed = bt.feeds.PandasData(\n",
    "        dataname=ticker_data,\n",
    "        datetime=0,\n",
    "        high=None,\n",
    "        low=None,\n",
    "        open=1,     # uses the column 1 ('Value') as open price\n",
    "        close=1,    # uses the column 1 ('Value') as close price\n",
    "        volume=None,\n",
    "        openinterest=None,\n",
    "    )\n",
    "\n",
    "    # Add the Data Feed to Cerebro\n",
    "    cerebro.adddata(ticker_data_feed)\n",
    "\n",
    "    # Add cash to the virtual broker\n",
    "    # cerebro.broker.setcash(100000.0)    # default: 10k\n",
    "\n",
    "    start_portfolio_value = cerebro.broker.getvalue()\n",
    "    cerebro.run()\n",
    "    \n",
    "    end_portfolio_value = cerebro.broker.getvalue()\n",
    "    pnl_value = end_portfolio_value - start_portfolio_value\n",
    "    pnl_percent = (pnl_value / start_portfolio_value) * 100\n",
    "    pnl_sign = '' if pnl_value < 0 else '+'\n",
    "\n",
    "    # print(\"----------------------------------------\")\n",
    "    print(f\"{'Start value:':<12} {start_portfolio_value:2f} USD\")\n",
    "    print(f\"{'Final value:':<12} {end_portfolio_value:2f}  USD\")\n",
    "    print(f\"{'PnL:':<11} {pnl_sign}{pnl_value:.2f} USD ({pnl_sign}{pnl_percent:.2f}%)\")\n",
    "\n",
    "    cerebro.plot(volume=False) # volume=False, iplot=True, style='bar' , stdstats=False\n"
   ]
  }
 ],
 "metadata": {
  "kernelspec": {
   "display_name": "Python 3.9.13 64-bit",
   "language": "python",
   "name": "python3"
  },
  "language_info": {
   "codemirror_mode": {
    "name": "ipython",
    "version": 3
   },
   "file_extension": ".py",
   "mimetype": "text/x-python",
   "name": "python",
   "nbconvert_exporter": "python",
   "pygments_lexer": "ipython3",
   "version": "3.9.13"
  },
  "orig_nbformat": 4,
  "vscode": {
   "interpreter": {
    "hash": "aee8b7b246df8f9039afb4144a1f6fd8d2ca17a180786b69acc140d282b71a49"
   }
  }
 },
 "nbformat": 4,
 "nbformat_minor": 2
}
