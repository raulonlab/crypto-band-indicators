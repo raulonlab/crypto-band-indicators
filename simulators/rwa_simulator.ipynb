{
 "cells": [
  {
   "cell_type": "code",
   "execution_count": null,
   "metadata": {},
   "outputs": [],
   "source": [
    "import sys\n",
    "IN_COLAB = 'google.colab' in sys.modules\n",
    "if IN_COLAB:\n",
    "  %pip install --quiet git+https://github.com/raultruco/cryptowatson-indicators#egg=cryptowatson-indicators\n",
    "from cryptowatsonindicators.rwa import Rwa\n",
    "import requests\n",
    "requests.packages.urllib3.disable_warnings()\n",
    "import pprint\n",
    "pprint = pprint.PrettyPrinter(indent=2, sort_dicts=False, compact=False).pprint   # pprint with defaults"
   ]
  },
  {
   "cell_type": "markdown",
   "metadata": {},
   "source": [
    "### Global variables"
   ]
  },
  {
   "cell_type": "code",
   "execution_count": null,
   "metadata": {},
   "outputs": [],
   "source": [
    "ticker_symbol = \"BTCUSDT\"    # currently only works with BTCUSDT\n",
    "start_date = None            # Limt time series to start at specific date or None to use all the history\n",
    "binance_api_key = ''         # use your binance keys or leave blank to use Binance's testnet\n",
    "binance_secret_key = ''\n",
    "get_current_band = True\n",
    "get_band_at = True\n",
    "plot_rainbow_chart = True\n",
    "run_simulator = True\n",
    "\n",
    "rwa = Rwa(start_date=start_date, ticker_symbol=ticker_symbol, binance_api_key=binance_api_key, binance_secret_key=binance_secret_key)"
   ]
  },
  {
   "cell_type": "markdown",
   "metadata": {},
   "source": [
    "### Get rainbow band"
   ]
  },
  {
   "cell_type": "code",
   "execution_count": null,
   "metadata": {},
   "outputs": [],
   "source": [
    "if get_current_band:\n",
    "    rainbow_band = rwa.get_current_rainbow_band()\n",
    "    print('Current Rainbow Band:')\n",
    "    pprint(rainbow_band)"
   ]
  },
  {
   "cell_type": "code",
   "execution_count": null,
   "metadata": {},
   "outputs": [],
   "source": [
    "if get_band_at:\n",
    "    at_date = '01/04/2022'    # date when look up the band\n",
    "    price_at_date = 30000     # Price of BTC at date\n",
    "    rainbow_band = rwa.get_rainbow_band(price=price_at_date, at_date=at_date)\n",
    "    print(f\"Rainbow Band at {at_date}:\")\n",
    "    pprint(rainbow_band)"
   ]
  },
  {
   "cell_type": "markdown",
   "metadata": {},
   "source": [
    "### Plot Rainbow chart"
   ]
  },
  {
   "cell_type": "code",
   "execution_count": null,
   "metadata": {},
   "outputs": [],
   "source": [
    "if plot_rainbow_chart:\n",
    "    rwa.plot_rainbow()"
   ]
  },
  {
   "cell_type": "markdown",
   "metadata": {},
   "source": [
    "### Simulator\n",
    "\n",
    "Usage..."
   ]
  },
  {
   "cell_type": "code",
   "execution_count": null,
   "metadata": {},
   "outputs": [],
   "source": [
    "\n",
    "start_date = '01/01/2020'    # start date of the simulation\n",
    "buy_frequency = 7            # Number of days between purchases\n",
    "buy_amount = 100             # Amount purchased in standard DCA\n",
    "weight_type = \"fibs\"         # \"fibs\" or \"originaldca\"\n",
    "\n",
    "if run_simulator:\n",
    "    pass\n"
   ]
  }
 ],
 "metadata": {
  "kernelspec": {
   "display_name": "Python 3.9.13 64-bit",
   "language": "python",
   "name": "python3"
  },
  "language_info": {
   "codemirror_mode": {
    "name": "ipython",
    "version": 3
   },
   "file_extension": ".py",
   "mimetype": "text/x-python",
   "name": "python",
   "nbconvert_exporter": "python",
   "pygments_lexer": "ipython3",
   "version": "3.9.13"
  },
  "orig_nbformat": 4,
  "vscode": {
   "interpreter": {
    "hash": "aee8b7b246df8f9039afb4144a1f6fd8d2ca17a180786b69acc140d282b71a49"
   }
  }
 },
 "nbformat": 4,
 "nbformat_minor": 2
}
