{
 "cells": [
  {
   "cell_type": "code",
   "execution_count": null,
   "metadata": {},
   "outputs": [],
   "source": [
    "import sys\n",
    "IN_COLAB = 'google.colab' in sys.modules\n",
    "if IN_COLAB:\n",
    "  %pip install --quiet git+https://github.com/raulonlab/crypto-band-indicators#egg=crypto_band_indicators\n",
    "\n",
    "import backtrader as bt\n",
    "from crypto_band_indicators import TickerDataSource, RwaWeightedAverageStrategy, RwaRebalanceStrategy\n",
    "from crypto_band_indicators.utils.utils import LogColors\n",
    "import matplotlib.pyplot as plt\n",
    "%matplotlib inline\n",
    "plt.rcParams['figure.figsize'] = [12, 8]\n",
    "plt.rcParams['figure.dpi'] = 100 # 200"
   ]
  },
  {
   "cell_type": "markdown",
   "metadata": {},
   "source": [
    "# Rainbow Weighted Average Simulator\n",
    "\n",
    "Usage..."
   ]
  },
  {
   "cell_type": "markdown",
   "metadata": {},
   "source": [
    "### Variables"
   ]
  },
  {
   "cell_type": "code",
   "execution_count": null,
   "metadata": {},
   "outputs": [],
   "source": [
    "strategy             = \"rebalance\"    # Select strategy between \"weighted_dca\" and \"rebalance\"\n",
    "ticker_symbol        = \"BTCUSDT\"      # currently only works with BTCUSDT\n",
    "start                = '01/01/2022'   # start date of the simulation. Ex: '01/08/2020' or None\n",
    "end                  = None           # end date of the simulation. Ex: '30/05/2022' or None\n",
    "initial_cash         = 10000.0        # initial broker cash. Default 10000 usd\n",
    "min_order_period     = 5              # Minimum period in days to place orders\n",
    "base_buy_amount      = 100            # Amount purchased in standard DCA\n",
    "# weighted_multipliers = [0, 0.1, 0.2, 0.35, 0.5, 0.75, 1, 2.5, 3]      # Default order amount multipliers (weighted) for each index\n",
    "weighted_multipliers = [0, 0.1, 0.2, 0.3, 0.5, 0.8, 1.3, 2.1, 3.4]    # Fibonacci order amount multipliers (weighted) for each index\n",
    "rebalance_percents   = [10, 20, 30, 40, 50, 60, 70, 80, 90]         # rebalance percentages for each index"
   ]
  },
  {
   "cell_type": "markdown",
   "metadata": {},
   "source": [
    "### Run Simulator!"
   ]
  },
  {
   "cell_type": "code",
   "execution_count": null,
   "metadata": {},
   "outputs": [],
   "source": [
    "\n",
    "cerebro = bt.Cerebro(stdstats=True, runonce=True)\n",
    "cerebro.broker.set_coc(True)\n",
    "\n",
    "# Data sources\n",
    "ticker_data_source = TickerDataSource()\n",
    "\n",
    "# Add data feeds to Cerebro\n",
    "simulation_data_feed = ticker_data_source.to_backtrade_feed(start, end)\n",
    "cerebro.adddata(simulation_data_feed)\n",
    "\n",
    "if strategy == \"weighted_dca\":\n",
    "    cerebro.addstrategy(RwaWeightedAverageStrategy, base_buy_amount=base_buy_amount,\n",
    "                    min_order_period=min_order_period, weighted_multipliers=weighted_multipliers, log=True)\n",
    "elif strategy == \"rebalance\":\n",
    "    cerebro.addstrategy(RwaRebalanceStrategy, min_order_period=min_order_period, rebalance_percents=rebalance_percents, log=True)\n",
    "else:\n",
    "    error_message = f\"Invalid strategy: '{strategy}'\"\n",
    "    print(f\"Error: {error_message}\")\n",
    "    exit()\n",
    "\n",
    "# Add cash to the virtual broker\n",
    "cerebro.broker.setcash(initial_cash)    # default: 10k\n",
    "\n",
    "start_portfolio_value = cerebro.broker.getvalue()\n",
    "cerebro_results = cerebro.run()\n",
    "\n",
    "end_cash = cerebro.broker.getcash()\n",
    "end_portfolio_value = cerebro.broker.getvalue()     # Total value in USDT\n",
    "end_position = cerebro.getbroker().getposition(data=simulation_data_feed)\n",
    "start_btc_price, end_btc_price = ticker_data_source.get_value_start_end(\n",
    "    start=start, end=end)\n",
    "\n",
    "pnl_value = end_portfolio_value - start_portfolio_value\n",
    "pnl_percent = (pnl_value / start_portfolio_value) * 100\n",
    "pnl_color = f\"{LogColors.FAIL}\" if end_portfolio_value < start_portfolio_value else f\"{LogColors.OK}\"\n",
    "\n",
    "print(\"\\nSIMULATION RESULT\")\n",
    "print(\"------------------------\")\n",
    "print(f\"{'Started:':<8} {start_portfolio_value:>10.2f} USD (1 BTC = {start_btc_price:.2f} USD)\")\n",
    "print(f\"{'Ended:':<8} {end_portfolio_value:>10.2f} USD ({end_position.size:6f} BTC + {end_cash:.2f} USD in cash | 1 BTC = {end_btc_price:.2f} USD)\")\n",
    "print(f\"{'PnL:':<8} {pnl_color}{pnl_value:>10.2f} USD ({pnl_percent:.2f}%){LogColors.ENDC}\")\n"
   ]
  },
  {
   "cell_type": "markdown",
   "metadata": {},
   "source": [
    "### Plot results"
   ]
  },
  {
   "cell_type": "code",
   "execution_count": null,
   "metadata": {},
   "outputs": [],
   "source": [
    "enable_plot_results = True   # Set True to plot the simulation results\n",
    "\n",
    "if enable_plot_results:\n",
    "   if len(cerebro_results) > 0:\n",
    "        cerebro_results[0].plot()"
   ]
  }
 ],
 "metadata": {
  "kernelspec": {
   "display_name": "Python 3.9.13 ('venv_crypto_band_indicators': venv)",
   "language": "python",
   "name": "python3"
  },
  "language_info": {
   "codemirror_mode": {
    "name": "ipython",
    "version": 3
   },
   "file_extension": ".py",
   "mimetype": "text/x-python",
   "name": "python",
   "nbconvert_exporter": "python",
   "pygments_lexer": "ipython3",
   "version": "3.9.13"
  },
  "orig_nbformat": 4,
  "vscode": {
   "interpreter": {
    "hash": "bb8a039bf8ba4c58599aedf348b7ee79ddf2922ed14c505f5285762eabfe65b5"
   }
  }
 },
 "nbformat": 4,
 "nbformat_minor": 2
}
