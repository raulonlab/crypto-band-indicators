{
 "cells": [
  {
   "cell_type": "code",
   "execution_count": null,
   "metadata": {},
   "outputs": [],
   "source": [
    "import sys\n",
    "IN_COLAB = 'google.colab' in sys.modules\n",
    "if IN_COLAB:\n",
    "  %pip install --quiet git+https://github.com/raulonlab/crypto-band-indicators#egg=crypto_band_indicators\n",
    "  %pip install --quiet ipympl \n",
    "import backtrader as bt\n",
    "from crypto_band_indicators.backtrader import RebalanceStrategy, WeightedDCAStrategy, DCAStrategy, HodlStrategy\n",
    "from crypto_band_indicators.datas import TickerDataSource, FngDataSource\n",
    "from crypto_band_indicators.indicators import FngBandIndicator, RainbowBandIndicator\n",
    "from crypto_band_indicators import config\n",
    "from tabulate import tabulate\n",
    "import matplotlib.pyplot as plt\n",
    "plt.rcParams['figure.figsize'] = [12, 8]\n",
    "plt.rcParams['figure.dpi'] = 100 # 200\n",
    "# %matplotlib inline\n",
    "%matplotlib widget\n",
    "\n",
    "# Global variables\n",
    "ticker_data_source = TickerDataSource().load()\n",
    "FngDataSource().load()  # Preload cache\n",
    "config.set('only_cache', True)"
   ]
  },
  {
   "cell_type": "markdown",
   "metadata": {},
   "source": [
    "# Optimise strategies\n",
    "\n",
    "Usage..."
   ]
  },
  {
   "cell_type": "markdown",
   "metadata": {},
   "source": [
    "### Variables"
   ]
  },
  {
   "cell_type": "code",
   "execution_count": null,
   "metadata": {},
   "outputs": [],
   "source": [
    "# Fixed variables\n",
    "start               = '01/01/2021'  # start date of the simulation. Ex: '01/08/2020' or None\n",
    "end                 = '31/12/2021'  # end date of the simulation. Ex: '01/08/2020' or None\n",
    "initial_cash        = 10000.0       # initial broker cash. Default 10000 usd\n",
    "base_buy_amount     = 100           # Amount purchased in standard DCA\n",
    "fng_weighted_multipliers =  [1.5, 1.25, 1, 0.75, 0.5]  # buy amount multipliers (weighted) for FnG bands\n",
    "fng_rebalance_percents   =  [85, 65, 50, 15, 10]       # rebalance percentages (BTC/total) for FnG bands\n",
    "rwa_weighted_multipliers =  [0, 0.1, 0.2, 0.3, 0.5, 0.8, 1.3, 2.1, 3.4]  # buy amount multipliers for Rainbow bands\n",
    "rwa_rebalance_percents =    [10, 20, 30, 40, 50, 60, 70, 80, 90]         # rebalance percentages for Rainbow band\n",
    "\n",
    "# Range variables (to calculate optimization)\n",
    "min_order_period_list = range(4, 8)              # Minimum period in days to place orders\n",
    "# indicator_params_list = (None,)\n",
    "indicator_params_list = [None,\n",
    "                        # {'ta_config': {'kind': 'sma', 'length': 3}},\n",
    "                        # {'ta_config': {'kind': 'sma', 'length': 4}},\n",
    "                        {'ta_config': {'kind': 'wma', 'length': 3}},\n",
    "                        {'ta_config': {'kind': 'wma', 'length': 4}},\n",
    "                        ]\n",
    "ma_class_list = (None,)\n",
    "# ma_class_list = [bt.ind.WeightedMovingAverage, bt.ind.MovingAverageSimple]     # smooth data with ma algorithm \n",
    "\n",
    "# Other options\n",
    "plot_results         = False"
   ]
  },
  {
   "cell_type": "markdown",
   "metadata": {},
   "source": [
    "### Run strategies!"
   ]
  },
  {
   "cell_type": "code",
   "execution_count": null,
   "metadata": {},
   "outputs": [],
   "source": [
    "def run(strategy_class, **kwargs):\n",
    "    cerebro = bt.Cerebro(stdstats=False, optreturn=False, maxcpus=1, runonce=True, exactbars=False)\n",
    "    cerebro.broker.set_coc(True)\n",
    "\n",
    "    # Add strategy\n",
    "    cerebro.optstrategy(strategy_class,\n",
    "                        log=(False,),\n",
    "                        debug=(False,),\n",
    "                        **kwargs)\n",
    "\n",
    "    # Add data feed\n",
    "    cerebro.adddata(ticker_data_source.to_backtrade_feed(start, end))\n",
    "\n",
    "    # Add cash to the virtual broker\n",
    "    cerebro.broker.setcash(initial_cash)    # default: 10k\n",
    "\n",
    "    cerebro_results = cerebro.run()\n",
    "\n",
    "    return cerebro_results\n",
    "\n",
    "\n",
    "rebalance_run_results = list()\n",
    "wdca_run_results = list()\n",
    "\n",
    "# HODL\n",
    "run_result = run( \\\n",
    "    strategy_class=HodlStrategy, \\\n",
    "    percent=(100,), \\\n",
    ")\n",
    "rebalance_run_results.extend(map(lambda result: result[0], run_result))\n",
    "\n",
    "# Rebalance strategy with Fear and Greed indicator\n",
    "run_result = run( \\\n",
    "    strategy_class=RebalanceStrategy, \\\n",
    "    indicator_class=(FngBandIndicator,),\n",
    "    indicator_params=indicator_params_list,\n",
    "    ma_class=ma_class_list,\n",
    "    min_order_period=min_order_period_list, \\\n",
    "    rebalance_percents=(fng_rebalance_percents,), \\\n",
    ")\n",
    "rebalance_run_results.extend(map(lambda result: result[0], run_result))\n",
    "\n",
    "# Rebalance strategy with Rainbow indicator\n",
    "run_result = run( \\\n",
    "    strategy_class=RebalanceStrategy, \\\n",
    "    indicator_class=(RainbowBandIndicator,),\n",
    "    indicator_params=indicator_params_list,\n",
    "    ma_class=ma_class_list,\n",
    "    min_order_period=min_order_period_list, \\\n",
    "    rebalance_percents=(rwa_rebalance_percents,), \\\n",
    ")\n",
    "rebalance_run_results.extend(map(lambda result: result[0], run_result))\n",
    "\n",
    "# Standard DCA\n",
    "run_result = run( \\\n",
    "    strategy_class=DCAStrategy, \\\n",
    "    buy_amount=(base_buy_amount,), \\\n",
    "    min_order_period=min_order_period_list, \\\n",
    ")\n",
    "wdca_run_results.extend(map(lambda result: result[0], run_result))\n",
    "\n",
    "# Weighted Av strategy with Fear and Greed indicator\n",
    "run_result = run( \\\n",
    "    strategy_class=WeightedDCAStrategy, \\\n",
    "    indicator_class=(FngBandIndicator,),\n",
    "    indicator_params=indicator_params_list,\n",
    "    # ma_class=ma_class_list,   # Not used in Weighed Avg\n",
    "    base_buy_amount=(base_buy_amount,), \\\n",
    "    min_order_period=min_order_period_list, \\\n",
    "    weighted_multipliers=(fng_weighted_multipliers,), \\\n",
    ")\n",
    "wdca_run_results.extend(map(lambda result: result[0], run_result))\n",
    "\n",
    "# Weighted Av strategy with Rainbow indicator\n",
    "run_result = run( \\\n",
    "    strategy_class=WeightedDCAStrategy, \\\n",
    "    indicator_class=(RainbowBandIndicator,),\n",
    "    indicator_params=indicator_params_list,\n",
    "    # ma_class=ma_class_list,   # Not used in Weighed Avg\n",
    "    base_buy_amount=(base_buy_amount,), \\\n",
    "    min_order_period=min_order_period_list, \\\n",
    "    weighted_multipliers=(rwa_weighted_multipliers,), \\\n",
    ")\n",
    "wdca_run_results.extend(map(lambda result: result[0], run_result))\n",
    "\n",
    "# Sort results by pnl_value descendent (best value first)\n",
    "sorted_rebalance_run_results = sorted(rebalance_run_results, key=lambda strategy: float(strategy.pnl_value), reverse=True)\n",
    "sorted_wdca_run_results = sorted(wdca_run_results, key=lambda strategy: float(strategy.pnl_value), reverse=True)"
   ]
  },
  {
   "cell_type": "markdown",
   "metadata": {},
   "source": [
    "### Show the results"
   ]
  },
  {
   "cell_type": "code",
   "execution_count": null,
   "metadata": {},
   "outputs": [],
   "source": [
    "\n",
    "column_keys = ['name', 'pnl_value', 'pnl_percent', 'params']\n",
    "column_headers = ['Strategy', 'PNL USDT', 'PNL %', 'Parameters']\n",
    "\n",
    "sorted_rebalance_run_details = map(lambda strategy: strategy.describe(keys=column_keys), sorted_rebalance_run_results)\n",
    "print('REBALANCE results:\\n')\n",
    "print(tabulate([details.values() for details in sorted_rebalance_run_details], \n",
    "                tablefmt=\"github\", \n",
    "                headers=column_headers, \n",
    "                floatfmt=\"+.2f\"))\n",
    "\n",
    "sorted_wdca_run_details = map(lambda strategy: strategy.describe(keys=column_keys), sorted_wdca_run_results)\n",
    "print('\\nWEIGHTED DCA results:\\n')\n",
    "print(tabulate([details.values() for details in sorted_wdca_run_details], \n",
    "                tablefmt=\"github\", \n",
    "                headers=column_headers, \n",
    "                floatfmt=\"+.2f\"))"
   ]
  },
  {
   "cell_type": "markdown",
   "metadata": {},
   "source": [
    "### Plot results"
   ]
  },
  {
   "cell_type": "code",
   "execution_count": null,
   "metadata": {},
   "outputs": [],
   "source": [
    "plot_results = True\n",
    "plot_only_winner = True\n",
    "\n",
    "if plot_results:\n",
    "    for i in range(0, len(sorted_rebalance_run_results)):\n",
    "        sorted_rebalance_run_results[i].plot(title_prefix='BEST: ' if i == 0 else '', title_suffix=f\" ({sorted_rebalance_run_results[i].pnl_percent:+.2f}%)\")\n",
    "\n",
    "        if plot_only_winner:\n",
    "            break\n",
    "    \n",
    "    for i in range(0, len(sorted_wdca_run_results)):\n",
    "        sorted_wdca_run_results[i].plot(title_prefix='BEST: ' if i == 0 else '', title_suffix=f\" ({sorted_wdca_run_results[i].pnl_percent:+.2f}%)\")\n",
    "\n",
    "        if plot_only_winner:\n",
    "            break\n"
   ]
  }
 ],
 "metadata": {
  "kernelspec": {
   "display_name": "Python 3.9.13 ('venv_crypto_band_indicators': venv)",
   "language": "python",
   "name": "python3"
  },
  "language_info": {
   "codemirror_mode": {
    "name": "ipython",
    "version": 3
   },
   "file_extension": ".py",
   "mimetype": "text/x-python",
   "name": "python",
   "nbconvert_exporter": "python",
   "pygments_lexer": "ipython3",
   "version": "3.9.13"
  },
  "orig_nbformat": 4,
  "vscode": {
   "interpreter": {
    "hash": "bb8a039bf8ba4c58599aedf348b7ee79ddf2922ed14c505f5285762eabfe65b5"
   }
  }
 },
 "nbformat": 4,
 "nbformat_minor": 2
}
