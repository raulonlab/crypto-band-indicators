{
 "cells": [
  {
   "cell_type": "code",
   "execution_count": null,
   "metadata": {},
   "outputs": [],
   "source": [
    "import sys\n",
    "IN_COLAB = 'google.colab' in sys.modules\n",
    "if IN_COLAB:\n",
    "  %pip install --quiet git+https://github.com/raulonlab/crypto-band-indicators#egg=crypto_band_indicators\n",
    "\n",
    "import backtrader as bt\n",
    "from crypto_band_indicators.backtrader import RebalanceStrategy, WeightedDCAStrategy, DCAStrategy, HodlStrategy\n",
    "from crypto_band_indicators.datas import TickerDataSource\n",
    "from crypto_band_indicators.indicators import FngBandIndicator, RainbowBandIndicator\n",
    "from tabulate import tabulate\n",
    "import matplotlib.pyplot as plt\n",
    "plt.rcParams['figure.figsize'] = [12, 8]\n",
    "plt.rcParams['figure.dpi'] = 100 # 200\n",
    "# %matplotlib inline\n",
    "%matplotlib widget\n",
    "\n",
    "# Global variables\n",
    "# Data sources\n",
    "ticker_data_source = TickerDataSource().load()"
   ]
  },
  {
   "cell_type": "markdown",
   "metadata": {},
   "source": [
    "# Compare strategies\n",
    "\n",
    "Usage..."
   ]
  },
  {
   "cell_type": "markdown",
   "metadata": {},
   "source": [
    "### Variables"
   ]
  },
  {
   "cell_type": "code",
   "execution_count": null,
   "metadata": {},
   "outputs": [],
   "source": [
    "# Common variables\n",
    "# ticker_symbol        = \"BTCUSDT\"    # currently only works with BTCUSDT\n",
    "start                = '01/01/2021'   # start date of the simulation. Ex: '01/08/2020' or None\n",
    "end                  = None # '31/12/2021'           # end date of the simulation. Ex: '01/08/2020' or None\n",
    "initial_cash         = 10000.0        # initial broker cash. Default 10000 usd\n",
    "min_order_period     = 5              # Minimum period in days to place orders\n",
    "base_buy_amount      = 100            # Amount purchased in standard DCA\n",
    "\n",
    "# Specific for Fear and greed indicator\n",
    "fng_weighted_multipliers = [1.5, 1.25, 1, 0.75, 0.5]    # buy amount multipliers (weighted) for each band\n",
    "fng_rebalance_percents   = [85, 65, 50, 15, 10]         # rebalance percentages of BTC / total for each band\n",
    "fng_indicator_params = {}             # parameters for FnG indicator\n",
    "\n",
    "# Specific for Rainbow indicator\n",
    "rainbow_weighted_multipliers = [0, 0.1, 0.2, 0.3, 0.5, 0.8, 1.3, 2.1, 3.4]\n",
    "rainbow_rebalance_percents = [10, 20, 30, 40, 50, 60, 70, 80, 90]\n",
    "rainbow_indicator_params = {}             # parameters for Rainbow indicator\n",
    "\n",
    "# Other options\n",
    "log_progress         = False\n",
    "plot_results         = False"
   ]
  },
  {
   "cell_type": "markdown",
   "metadata": {},
   "source": [
    "### Run strategies!"
   ]
  },
  {
   "cell_type": "code",
   "execution_count": null,
   "metadata": {},
   "outputs": [],
   "source": [
    "def run(strategy_class, **kwargs):\n",
    "    cerebro = bt.Cerebro(stdstats=False, runonce=True)\n",
    "    cerebro.broker.set_coc(True)\n",
    "\n",
    "    # Add strategy\n",
    "    cerebro.addstrategy(strategy_class, **kwargs)\n",
    "\n",
    "    # Add data feeds\n",
    "    cerebro.adddata(ticker_data_source.to_backtrade_feed(start, end))\n",
    "\n",
    "    # Set broker initial cash\n",
    "    cerebro.broker.setcash(initial_cash)\n",
    "\n",
    "    # Run simulation!\n",
    "    cerebro_results = cerebro.run()     # runonce=False, exactbars=True (optimization)\n",
    "    print(f\"✔ Done {str(cerebro_results[0])}\")\n",
    "\n",
    "    return cerebro_results[0]\n",
    "\n",
    "\n",
    "all_run_results = list()\n",
    "\n",
    "# Weighted Av strategy with Fear and Greed indicator\n",
    "run_result = run(\n",
    "    strategy_class=WeightedDCAStrategy,\n",
    "    indicator_class=FngBandIndicator,\n",
    "    indicator_params=fng_indicator_params,\n",
    "    base_buy_amount=base_buy_amount,\n",
    "    min_order_period=min_order_period,\n",
    "    weighted_multipliers=fng_weighted_multipliers,\n",
    "    log=log_progress,\n",
    ")\n",
    "all_run_results.append(run_result)\n",
    "\n",
    "# Rainbow Weighted Av strategy\n",
    "run_result = run(\n",
    "    strategy_class=WeightedDCAStrategy,\n",
    "    indicator_class=RainbowBandIndicator,\n",
    "    indicator_params=rainbow_indicator_params,\n",
    "    base_buy_amount=base_buy_amount,\n",
    "    min_order_period=min_order_period,\n",
    "    weighted_multipliers=rainbow_weighted_multipliers,\n",
    "    log=log_progress,\n",
    ")\n",
    "all_run_results.append(run_result)\n",
    "\n",
    "# Fear and Greed Rebalance strategy\n",
    "run_result = run(\n",
    "    strategy_class=RebalanceStrategy,\n",
    "    indicator_class=FngBandIndicator,\n",
    "    indicator_params=fng_indicator_params,\n",
    "    min_order_period=min_order_period,\n",
    "    rebalance_percents=fng_rebalance_percents,\n",
    "    log=log_progress,\n",
    ")\n",
    "all_run_results.append(run_result)\n",
    "\n",
    "# Rainbow Rebalance strategy\n",
    "run_result = run(\n",
    "    strategy_class=RebalanceStrategy,\n",
    "    indicator_class=RainbowBandIndicator,\n",
    "    indicator_params=rainbow_indicator_params,\n",
    "    min_order_period=min_order_period,\n",
    "    rebalance_percents=rainbow_rebalance_percents,\n",
    "    log=log_progress,\n",
    ")\n",
    "all_run_results.append(run_result)\n",
    "\n",
    "# Standard DCA\n",
    "run_result = run(\n",
    "    strategy_class=DCAStrategy,\n",
    "    buy_amount=base_buy_amount,\n",
    "    min_order_period=min_order_period,\n",
    "    log=log_progress,\n",
    ")\n",
    "all_run_results.append(run_result)\n",
    "\n",
    "# HODL\n",
    "run_result = run(\n",
    "    strategy_class=HodlStrategy,\n",
    "    percent=100,\n",
    "    log=log_progress,\n",
    ")\n",
    "all_run_results.append(run_result)\n",
    "\n",
    "# Sort results by pnl_value\n",
    "sorted_run_results = sorted(all_run_results, key=lambda strategy: float(strategy.pnl_value), reverse=True)"
   ]
  },
  {
   "cell_type": "markdown",
   "metadata": {},
   "source": [
    "### Show the results"
   ]
  },
  {
   "cell_type": "code",
   "execution_count": null,
   "metadata": {},
   "outputs": [],
   "source": [
    "\n",
    "column_keys = ['name', 'pnl_value', 'pnl_percent']\n",
    "column_headers = ['Strategy', 'PNL USDT', 'PNL %']\n",
    "sorted_run_details = map(lambda strategy: strategy.describe(keys=column_keys), sorted_run_results)\n",
    "print(tabulate([details.values() for details in sorted_run_details], \n",
    "                tablefmt=\"github\", \n",
    "                headers=column_headers, \n",
    "                floatfmt=\".2f\"))"
   ]
  },
  {
   "cell_type": "markdown",
   "metadata": {},
   "source": [
    "### Plot results"
   ]
  },
  {
   "cell_type": "code",
   "execution_count": null,
   "metadata": {},
   "outputs": [],
   "source": [
    "plot_results = True\n",
    "plot_only_winner = True\n",
    "\n",
    "if plot_results:\n",
    "    for i in range(0, len(sorted_run_results)):\n",
    "        sorted_run_results[i].plot(title_prefix='BEST: ' if i == 0 else '', title_suffix=f\" ({sorted_run_results[i].pnl_percent:+.2f}%)\")\n",
    "\n",
    "        if plot_only_winner:\n",
    "            break\n"
   ]
  }
 ],
 "metadata": {
  "kernelspec": {
   "display_name": "Python 3.9.13 ('venv_cryptowatson-indicators': venv)",
   "language": "python",
   "name": "python3"
  },
  "language_info": {
   "codemirror_mode": {
    "name": "ipython",
    "version": 3
   },
   "file_extension": ".py",
   "mimetype": "text/x-python",
   "name": "python",
   "nbconvert_exporter": "python",
   "pygments_lexer": "ipython3",
   "version": "3.9.13"
  },
  "orig_nbformat": 4,
  "vscode": {
   "interpreter": {
    "hash": "9885f4c41802ec7bcb9b0dbdab55a5afa972e8313182a8f90701a15196806935"
   }
  }
 },
 "nbformat": 4,
 "nbformat_minor": 2
}
