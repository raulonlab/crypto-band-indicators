{
 "cells": [
  {
   "cell_type": "code",
   "execution_count": null,
   "metadata": {},
   "outputs": [],
   "source": [
    "\n",
    "\n",
    "import sys\n",
    "IN_COLAB = 'google.colab' in sys.modules\n",
    "if IN_COLAB:\n",
    "  %pip install --quiet git+https://github.com/raultruco/cryptowatson-indicators#egg=cryptowatson-indicators\n",
    "  %pip install --quiet git+https://github.com/mementum/backtrader.git@0fa63ef4a35dc53cc7320813f8b15480c8f85517#egg=backtrader\n",
    "\n",
    "import backtrader as bt\n",
    "from cryptowatsonindicators import datas, strategies, FngIndicator\n",
    "import requests\n",
    "requests.packages.urllib3.disable_warnings()\n",
    "import pprint\n",
    "pprint = pprint.PrettyPrinter(indent=2, sort_dicts=False, compact=False).pprint   # pprint with defaults\n",
    "\n",
    "%matplotlib inline"
   ]
  },
  {
   "cell_type": "markdown",
   "metadata": {},
   "source": [
    "### Global variables"
   ]
  },
  {
   "cell_type": "code",
   "execution_count": null,
   "metadata": {},
   "outputs": [],
   "source": [
    "ticker_symbol = \"BTCUSDT\"      # currently only works with BTCUSDT\n",
    "indicator_start_date = None    # Limit indicator series to start at specific date or None to use all the history\n",
    "run_get_current = True\n",
    "run_get_at_date = True\n",
    "run_plot = True\n",
    "run_simulator = True\n",
    "\n",
    "fng = FngIndicator(indicator_start_date, ticker_symbol)"
   ]
  },
  {
   "cell_type": "markdown",
   "metadata": {},
   "source": [
    "### Get Fear and Greed index"
   ]
  },
  {
   "cell_type": "code",
   "execution_count": null,
   "metadata": {},
   "outputs": [],
   "source": [
    "if run_get_current:\n",
    "    fng_value = fng.get_current_fng_value()\n",
    "    fng_details = FngIndicator._get_fng_value_details(fng_value)\n",
    "    print('Current FnG:')\n",
    "    pprint(fng_details)"
   ]
  },
  {
   "cell_type": "code",
   "execution_count": null,
   "metadata": {},
   "outputs": [],
   "source": [
    "if run_get_at_date:\n",
    "    at_date = '01/02/2021'    # date when look up the Fng\n",
    "\n",
    "    fng_value = fng.get_fng_value(at_date=at_date)\n",
    "    fng_details = FngIndicator._get_fng_value_details(fng_value)\n",
    "    print(f\"FnG at {at_date}:\")\n",
    "    pprint(fng_details)"
   ]
  },
  {
   "cell_type": "markdown",
   "metadata": {},
   "source": [
    "### Plot Fear and Greed History"
   ]
  },
  {
   "cell_type": "code",
   "execution_count": null,
   "metadata": {},
   "outputs": [],
   "source": [
    "if run_plot:\n",
    "    fng.plot_fng_and_ticker_price()"
   ]
  },
  {
   "cell_type": "markdown",
   "metadata": {},
   "source": [
    "### Simulator\n",
    "\n",
    "Usage..."
   ]
  },
  {
   "cell_type": "code",
   "execution_count": null,
   "metadata": {},
   "outputs": [],
   "source": [
    "\n",
    "start_date = '01/01/2020'    # start date of the simulation\n",
    "buy_frequency_days = 5       # Number of days between purchases\n",
    "buy_amount = 100             # Amount purchased in standard DCA\n",
    "weight_type = \"\"             # TBD\n",
    "\n",
    "if run_simulator:\n",
    "    # Create a cerebro entity\n",
    "    cerebro = bt.Cerebro(stdstats=True)\n",
    "\n",
    "    cerebro.addstrategy(strategies.FngStrategy, buy_amount=buy_amount,\n",
    "                    buy_frequency_days=buy_frequency_days, weight_type=weight_type, log=False, debug=False)\n",
    "\n",
    "    # Get data feed\n",
    "    ticker_data = datas.get_nasdaq_ticker_time_series(start_date=start_date)\n",
    "\n",
    "    ticker_data_feed = bt.feeds.PandasData(\n",
    "        dataname=ticker_data,\n",
    "        datetime=0,\n",
    "        high=None,\n",
    "        low=None,\n",
    "        open=1,     # uses the column 1 ('Value') as open price\n",
    "        close=1,    # uses the column 1 ('Value') as close price\n",
    "        volume=None,\n",
    "        openinterest=None,\n",
    "    )\n",
    "\n",
    "    # Add the Data Feed to Cerebro\n",
    "    cerebro.adddata(ticker_data_feed)\n",
    "\n",
    "    # Add cash to the virtual broker\n",
    "    # cerebro.broker.setcash(100000.0)    # default: 10k\n",
    "\n",
    "    start_portfolio_value = cerebro.broker.getvalue()\n",
    "    cerebro.run()\n",
    "    \n",
    "    end_portfolio_value = cerebro.broker.getvalue()\n",
    "    pnl_value = end_portfolio_value - start_portfolio_value\n",
    "    pnl_percent = (pnl_value / start_portfolio_value) * 100\n",
    "    pnl_sign = '' if pnl_value < 0 else '+'\n",
    "\n",
    "    # print(\"----------------------------------------\")\n",
    "    print(f\"{'Start value:':<12} {start_portfolio_value:2f} USD\")\n",
    "    print(f\"{'Final value:':<12} {end_portfolio_value:2f}  USD\")\n",
    "    print(f\"{'PnL:':<11} {pnl_sign}{pnl_value:.2f} USD ({pnl_sign}{pnl_percent:.2f}%)\")\n",
    "\n",
    "    cerebro.plot(volume=False) # volume=False, iplot=True, style='bar' , stdstats=False\n"
   ]
  }
 ],
 "metadata": {
  "kernelspec": {
   "display_name": "Python 3.9.13 64-bit",
   "language": "python",
   "name": "python3"
  },
  "language_info": {
   "codemirror_mode": {
    "name": "ipython",
    "version": 3
   },
   "file_extension": ".py",
   "mimetype": "text/x-python",
   "name": "python",
   "nbconvert_exporter": "python",
   "pygments_lexer": "ipython3",
   "version": "3.9.13"
  },
  "orig_nbformat": 4,
  "vscode": {
   "interpreter": {
    "hash": "aee8b7b246df8f9039afb4144a1f6fd8d2ca17a180786b69acc140d282b71a49"
   }
  }
 },
 "nbformat": 4,
 "nbformat_minor": 2
}
